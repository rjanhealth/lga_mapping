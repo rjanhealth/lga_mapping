{
 "metadata": {
  "language_info": {
   "codemirror_mode": {
    "name": "ipython",
    "version": 3
   },
   "file_extension": ".py",
   "mimetype": "text/x-python",
   "name": "python",
   "nbconvert_exporter": "python",
   "pygments_lexer": "ipython3",
   "version": "3.9.2"
  },
  "orig_nbformat": 2,
  "kernelspec": {
   "name": "python3",
   "display_name": "Python 3.9.2 64-bit",
   "metadata": {
    "interpreter": {
     "hash": "26e36362cb8b07bc21426d265b7c85421e7f7c14fd8b27d7ed99a5505c1bd370"
    }
   }
  }
 },
 "nbformat": 4,
 "nbformat_minor": 2,
 "cells": [
  {
   "source": [
    "# LGA Mapping - Australia"
   ],
   "cell_type": "markdown",
   "metadata": {}
  },
  {
   "source": [
    "## Created by: Rebecca Jan\n",
    "## Last updated: 2021-03-27"
   ],
   "cell_type": "markdown",
   "metadata": {}
  },
  {
   "source": [
    "Set up notebook"
   ],
   "cell_type": "markdown",
   "metadata": {}
  },
  {
   "cell_type": "code",
   "execution_count": null,
   "metadata": {},
   "outputs": [],
   "source": [
    "import geopandas as gpd\n",
    "from geopandas.tools import sjoin\n",
    "import numpy as np\n",
    "import pandas as pd\n",
    "import shapely\n",
    "from shapely.geometry import Point,  Polygon"
   ]
  },
  {
   "source": [
    "Set path and load files"
   ],
   "cell_type": "markdown",
   "metadata": {}
  },
  {
   "source": [
    "path ='C:\\\\Users\\\\vicsxk6\\\\OneDrive - Department of Health and Human Services. Victoria\\\\Documents\\\\Python Scripts\\\\lga_mapping\\\\'\n",
    "sitrep = pd.read_csv(path+\"input\\sitrep.csv\", low_memory=False, sep =\",\")"
   ],
   "cell_type": "code",
   "metadata": {},
   "execution_count": null,
   "outputs": []
  },
  {
   "source": [
    "AUS lookup sourced from - https://www.abs.gov.au/AUSSTATS/abs@.nsf/DetailsPage/1270.0.55.003June%202020"
   ],
   "cell_type": "markdown",
   "metadata": {}
  },
  {
   "cell_type": "code",
   "execution_count": null,
   "metadata": {},
   "outputs": [],
   "source": [
    "aus_lga = gpd.read_file(path+\"reference\\\\aus_lga_polygon_shp\\LGA_2020_AUST.shp\")"
   ]
  },
  {
   "source": [
    "Assign points to .csv data"
   ],
   "cell_type": "markdown",
   "metadata": {}
  },
  {
   "cell_type": "code",
   "execution_count": null,
   "metadata": {},
   "outputs": [],
   "source": [
    "geometry = [Point(xy) for xy in zip(sitrep[\"Longitude_yest\"], sitrep[\"Latitude_yest\"])]\n",
    "geo_df = gpd.GeoDataFrame(sitrep, crs=\"EPSG:4326\", geometry=geometry)"
   ]
  },
  {
   "source": [
    "Run inner join to pull in .shp data based on point"
   ],
   "cell_type": "markdown",
   "metadata": {}
  },
  {
   "cell_type": "code",
   "execution_count": null,
   "metadata": {},
   "outputs": [],
   "source": [
    "aus_lga = aus_lga.to_crs(crs=\"EPSG:4326\")\n",
    "pointInPolys = sjoin(geo_df, aus_lga, how=\"left\", op=\"within\")"
   ]
  },
  {
   "source": [
    "Sanity check data"
   ],
   "cell_type": "markdown",
   "metadata": {}
  },
  {
   "cell_type": "code",
   "execution_count": null,
   "metadata": {},
   "outputs": [],
   "source": [
    "pointInPolys.info()\n",
    "#pointInPolys.LGA_NAME20.unique()"
   ]
  },
  {
   "source": [
    "Drop columns as needed"
   ],
   "cell_type": "markdown",
   "metadata": {}
  },
  {
   "cell_type": "code",
   "execution_count": null,
   "metadata": {},
   "outputs": [],
   "source": [
    "pointInPolys.drop(pointInPolys.columns[[22,23,24,26,28]], axis = 1, inplace = True)"
   ]
  },
  {
   "source": [
    "Convert columns to upper and export to csv"
   ],
   "cell_type": "markdown",
   "metadata": {}
  },
  {
   "cell_type": "code",
   "execution_count": null,
   "metadata": {},
   "outputs": [],
   "source": [
    "pointInPolys.columns= pointInPolys.columns.str.upper()\n",
    "pointInPolys.to_csv(path+\"output\\lga_mapped.csv\", index=False)"
   ]
  }
 ]
}