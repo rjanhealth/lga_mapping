{
 "cells": [
  {
   "cell_type": "markdown",
   "metadata": {},
   "source": [
    "# <u> LGA Mapping </u>\n",
    "## Last updated: 2021-03-08 | Created by: Rebecca Jan"
   ]
  },
  {
   "cell_type": "markdown",
   "metadata": {},
   "source": [
    "### Please note you may need to create a separate Python environment to run this script, I had to create geo_env instance for this to work"
   ]
  },
  {
   "cell_type": "markdown",
   "metadata": {},
   "source": [
    "Set up notebook"
   ]
  },
  {
   "cell_type": "code",
   "execution_count": null,
   "metadata": {},
   "outputs": [],
   "source": [
    "import geopandas as gpd\n",
    "from geopandas.tools import sjoin\n",
    "import numpy as np\n",
    "import pandas as pd\n",
    "import shapely\n",
    "from shapely.geometry import Point,  Polygon"
   ]
  },
  {
   "cell_type": "markdown",
   "metadata": {},
   "source": [
    "Load .csv and .shp file to be mapped <br></br>\n",
    "LGA lookup  sourced from - <br></br>\n",
    "https://data.gov.au/dataset/ds-dga-bdf92691-c6fe-42b9-a0e2-a4cd716fa811/details"
   ]
  },
  {
   "cell_type": "code",
   "execution_count": null,
   "metadata": {},
   "outputs": [],
   "source": [
    "vic_lga = gpd.read_file(\"vic_lga_polygon_shp/VIC_LGA_POLYGON_SHP.shp\")\n",
    "sitrep = pd.read_csv(\"sitrep.csv\", sep = \",\")\n",
    "lga_lookup = pd.read_csv(\"lga_lookup.csv\", sep = \",\")\n",
    "sitrep[\"TestDate\"]= pd.to_datetime(sitrep[\"TestDate\"])"
   ]
  },
  {
   "cell_type": "markdown",
   "metadata": {},
   "source": [
    "Assign points to .csv data"
   ]
  },
  {
   "cell_type": "code",
   "execution_count": null,
   "metadata": {},
   "outputs": [],
   "source": [
    "geometry = [Point(xy) for xy in zip(sitrep[\"Longitude\"], sitrep[\"Latitude\"])]\n",
    "geo_df = gpd.GeoDataFrame(sitrep, crs=\"EPSG:4326\", geometry=geometry)"
   ]
  },
  {
   "cell_type": "markdown",
   "metadata": {},
   "source": [
    "Run inner join to pull in .shp data based on point"
   ]
  },
  {
   "cell_type": "code",
   "execution_count": null,
   "metadata": {},
   "outputs": [],
   "source": [
    "vic_lga = vic_lga.to_crs(crs=\"EPSG:4326\")\n",
    "pointInPolys = sjoin(geo_df, vic_lga, how=\"left\", op=\"within\")"
   ]
  },
  {
   "cell_type": "markdown",
   "metadata": {},
   "source": [
    "Pivot data so interstate is separated out of state"
   ]
  },
  {
   "cell_type": "code",
   "execution_count": null,
   "metadata": {},
   "outputs": [],
   "source": [
    "pointInPolys[\"Interstate\"] = np.where(pointInPolys['LGA']==\"Interstate\", \"Y\", \"N\")"
   ]
  },
  {
   "cell_type": "markdown",
   "metadata": {},
   "source": [
    "Fill in empty column values for LGA_NAME & standardise to upper"
   ]
  },
  {
   "cell_type": "code",
   "execution_count": null,
   "metadata": {},
   "outputs": [],
   "source": [
    "pointInPolys.loc[pointInPolys[\"LGA_NAME\"].isnull(),\"LGA_NAME\"] = pointInPolys[\"LGA\"]\n",
    "pointInPolys['LGA_NAME'] = pointInPolys['LGA_NAME'].map(lga_lookup.set_index('LOOKUP COL')['RETURN THIS'])\n",
    "pointInPolys.columns= pointInPolys.columns.str.upper()"
   ]
  },
  {
   "cell_type": "markdown",
   "metadata": {},
   "source": [
    "Check data  length to ensure all rows are retained"
   ]
  },
  {
   "cell_type": "code",
   "execution_count": null,
   "metadata": {},
   "outputs": [],
   "source": [
    "#print(len(geo_df)-len(pointInPolys))\n",
    "#pointInPolys.head(50)\n",
    "pointInPolys.info()\n",
    "#geo_df[~geo_df['RecordID'].isin(pointInPolys ['RecordID'])]\n",
    "#pointInPolys.LGA_NAME.unique()"
   ]
  },
  {
   "cell_type": "markdown",
   "metadata": {},
   "source": [
    "Change data types"
   ]
  },
  {
   "cell_type": "code",
   "execution_count": null,
   "metadata": {},
   "outputs": [],
   "source": [
    "pointInPolys['RAWPOSTCODE'] = pointInPolys['RAWPOSTCODE'].astype('Int64')\n",
    "pointInPolys['POSTCODE'] = pointInPolys['POSTCODE'].astype('Int64')"
   ]
  },
  {
   "cell_type": "markdown",
   "metadata": {},
   "source": [
    "Drop columns as needed"
   ]
  },
  {
   "cell_type": "code",
   "execution_count": null,
   "metadata": {},
   "outputs": [],
   "source": [
    "pointInPolys.drop(pointInPolys.columns[[15, 16, 17, 18, 22]], axis = 1, inplace = True)"
   ]
  },
  {
   "cell_type": "markdown",
   "metadata": {},
   "source": [
    "Export and write to csv"
   ]
  },
  {
   "cell_type": "code",
   "execution_count": null,
   "metadata": {},
   "outputs": [],
   "source": [
    "#pointInPolys.to_csv(\"lga_mapped.csv\", index=False)"
   ]
  }
 ],
 "metadata": {
  "kernelspec": {
   "display_name": "Python 3",
   "language": "python",
   "name": "python3"
  },
  "language_info": {
   "codemirror_mode": {
    "name": "ipython",
    "version": 3
   },
   "file_extension": ".py",
   "mimetype": "text/x-python",
   "name": "python",
   "nbconvert_exporter": "python",
   "pygments_lexer": "ipython3",
   "version": "3.8.5"
  }
 },
 "nbformat": 4,
 "nbformat_minor": 4
}
