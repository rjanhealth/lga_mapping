{
 "metadata": {
  "language_info": {
   "codemirror_mode": {
    "name": "ipython",
    "version": 3
   },
   "file_extension": ".py",
   "mimetype": "text/x-python",
   "name": "python",
   "nbconvert_exporter": "python",
   "pygments_lexer": "ipython3",
   "version": "3.9.2"
  },
  "orig_nbformat": 2,
  "kernelspec": {
   "name": "python3",
   "display_name": "Python 3.9.2 64-bit",
   "metadata": {
    "interpreter": {
     "hash": "26e36362cb8b07bc21426d265b7c85421e7f7c14fd8b27d7ed99a5505c1bd370"
    }
   }
  }
 },
 "nbformat": 4,
 "nbformat_minor": 2,
 "cells": [
  {
   "source": [
    "# LGA Mapping"
   ],
   "cell_type": "markdown",
   "metadata": {}
  },
  {
   "source": [
    "## Created by: Rebecca Jan\n",
    "## Last updated: 2021-03-27"
   ],
   "cell_type": "markdown",
   "metadata": {}
  },
  {
   "source": [
    "Set up notebook"
   ],
   "cell_type": "markdown",
   "metadata": {}
  },
  {
   "cell_type": "code",
   "execution_count": null,
   "metadata": {},
   "outputs": [],
   "source": [
    "import geopandas as gpd\n",
    "from geopandas.tools import sjoin\n",
    "import numpy as np\n",
    "import pandas as pd\n",
    "import shapely\n",
    "from shapely.geometry import Point,  Polygon"
   ]
  },
  {
   "source": [
    "Set path and load csv files, uncomment which .shp files you want to map"
   ],
   "cell_type": "markdown",
   "metadata": {}
  },
  {
   "source": [
    "path ='C:\\\\Users\\\\vicsxk6\\\\OneDrive - Department of Health and Human Services. Victoria\\\\Documents\\\\Python Scripts\\\\lga_mapping\\\\'\n",
    "sitrep = pd.read_csv(path+\"input\\sitrep.csv\", low_memory=False, sep =\",\")"
   ],
   "cell_type": "code",
   "metadata": {},
   "execution_count": null,
   "outputs": []
  },
  {
   "source": [
    "VIC lookup sourced from - https://data.gov.au/dataset/ds-dga-bdf92691-c6fe-42b9-a0e2-a4cd716fa811/details"
   ],
   "cell_type": "markdown",
   "metadata": {}
  },
  {
   "cell_type": "code",
   "execution_count": null,
   "metadata": {},
   "outputs": [],
   "source": [
    "vic_lga = gpd.read_file(path+\"reference\\\\vic_lga_polygon_shp\\VIC_LGA_POLYGON_SHP.shp\")\n",
    "lga_lookup = pd.read_csv(path+\"reference\\lga_lookup.csv\", low_memory=False, sep = \",\")"
   ]
  },
  {
   "source": [
    "Assign points to .csv data"
   ],
   "cell_type": "markdown",
   "metadata": {}
  },
  {
   "cell_type": "code",
   "execution_count": null,
   "metadata": {},
   "outputs": [],
   "source": [
    "geometry = [Point(xy) for xy in zip(sitrep[\"Longitude_yest\"], sitrep[\"Latitude_yest\"])]\n",
    "geo_df = gpd.GeoDataFrame(sitrep, crs=\"EPSG:4326\", geometry=geometry)"
   ]
  },
  {
   "source": [
    "Run inner join to pull in .shp data based on point"
   ],
   "cell_type": "markdown",
   "metadata": {}
  },
  {
   "cell_type": "code",
   "execution_count": null,
   "metadata": {},
   "outputs": [],
   "source": [
    "vic_lga = vic_lga.to_crs(crs=\"EPSG:4326\")\n",
    "pointInPolys = sjoin(geo_df, vic_lga, how=\"left\", op=\"within\")"
   ]
  },
  {
   "source": [
    "Run this to standardise naming conventions and bring in region"
   ],
   "cell_type": "markdown",
   "metadata": {}
  },
  {
   "cell_type": "code",
   "execution_count": null,
   "metadata": {},
   "outputs": [],
   "source": [
    "pointInPolys['LGA_NAME'] = pointInPolys['LGA_NAME'].map(lga_lookup.set_index('LOOKUP')['RETURN'])"
   ]
  },
  {
   "cell_type": "code",
   "execution_count": null,
   "metadata": {},
   "outputs": [],
   "source": [
    "df = pointInPolys.merge(lga_lookup, left_on='LGA_NAME', right_on='RETURN', how='left')"
   ]
  },
  {
   "source": [
    "Sanity check data"
   ],
   "cell_type": "markdown",
   "metadata": {}
  },
  {
   "cell_type": "code",
   "execution_count": null,
   "metadata": {},
   "outputs": [],
   "source": [
    "#df.REGION.unique()\n",
    "#df.info()"
   ]
  },
  {
   "source": [
    "Drop columns as needed"
   ],
   "cell_type": "markdown",
   "metadata": {}
  },
  {
   "cell_type": "code",
   "execution_count": null,
   "metadata": {},
   "outputs": [],
   "source": [
    "df.drop(df.columns[[22,23,24,25,26,27,29,30,31,32,33]], axis = 1, inplace = True)"
   ]
  },
  {
   "source": [
    "Convert columns to upper and export to csv"
   ],
   "cell_type": "markdown",
   "metadata": {}
  },
  {
   "cell_type": "code",
   "execution_count": null,
   "metadata": {},
   "outputs": [],
   "source": [
    "df.columns= df.columns.str.upper()\n",
    "df.to_csv(path+\"output\\lga_mapped.csv\", index=False)"
   ]
  }
 ]
}